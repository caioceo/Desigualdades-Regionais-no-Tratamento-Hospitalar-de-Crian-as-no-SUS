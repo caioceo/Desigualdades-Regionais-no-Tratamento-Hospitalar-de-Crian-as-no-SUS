{
  "nbformat": 4,
  "nbformat_minor": 0,
  "metadata": {
    "colab": {
      "provenance": []
    },
    "kernelspec": {
      "name": "python3",
      "display_name": "Python 3"
    },
    "language_info": {
      "name": "python"
    }
  },
  "cells": [
    {
      "cell_type": "code",
      "execution_count": null,
      "metadata": {
        "colab": {
          "base_uri": "https://localhost:8080/"
        },
        "id": "ComIw3TcTYK3",
        "outputId": "196990c3-cdb9-4c10-a1e0-acb15d2079af"
      },
      "outputs": [
        {
          "output_type": "stream",
          "name": "stdout",
          "text": [
            "Arquivo CSV gerado com sucesso: distribuição_regional_X_atributos.csv\n"
          ]
        }
      ],
      "source": [
        "import pandas as pd\n",
        "import io\n",
        "\n",
        "# Dados da tabela em formato de texto\n",
        "table_data = \"\"\"\n",
        "Região | Internações | AIH aprovadas | Valor total | Val serv hospitalares | Val serv hosp - compl federal | Val serv hosp - compl gestor | Valor serviços profissionais | Val serv prof - compl federal | Val serv prof - compl gestor | Valor médio AIH | Valor médio internação | Dias permanência | Média permanência | Óbitos | Taxa mortalidade\n",
        "--- | --- | --- | --- | --- | --- | --- | --- | --- | --- | --- | --- | --- | --- | --- | ---\n",
        "TOTAL | 14.024.455 | 14.157.991 | 23.606.346.386,26 | 17.884.246.007,50 | 789.272.365,90 | 9.618.407,58 | 4.535.275.473,81 | 9.618.407,58 | 9.292.795,52 | 1.671,31 | 1.687,22 | 70.382.789 | 5,0 | 621.836 | 4,43\n",
        "1 Região Norte | 1.174.503 | 1.174.584 | 1.397.053.430,33 | 1.054.450.433,13 | 29.392.612,11 | 6.047,75 | 297.653.446,01 | 6.047,75 | 168.057,43 | 1.189,40 | 1.189,48 | 5.476.834 | 4,7 | 34.023 | 2,90\n",
        "2 Região Nordeste | 3.667.244 | 3.693.740 | 5.468.410.493,28 | 4.072.185.150,87 | 183.807.645,46 | 3.244.095,18 | 1.101.168.838,78 | 3.244.095,18 | 1.979.541,49 | 1.480,45 | 1.491,15 | 18.785.925 | 5,1 | 145.858 | 3,98\n",
        "3 Região Sudeste | 5.541.077 | 5.610.226 | 10.090.064.485,52 | 7.707.876.631,91 | 323.559.751,88 | 1.484.226,75 | 1.878.362.467,22 | 1.484.226,75 | 5.689.377,23 | 1.798,59 | 1.821,06 | 28.749.943 | 5,2 | 288.114 | 5,20\n",
        "4 Região Sul | 2.495.009 | 2.518.451 | 4.994.780.015,71 | 3.709.510.781,63 | 233.618.943,86 | 178.722,55 | 924.786.727,21 | 178.722,55 | 97.021,86 | 1.983,27 | 2.001,91 | 11.913.746 | 4,8 | 113.628 | 4,55\n",
        "5 Região Centro-Oeste | 1.146.622 | 1.160.920 | 1.771.457.591,42 | 1.340.223.109,96 | 18.893.412,36 | 4.705.315,35 | 333.303.994,59 | 4.705.315,35 | 1.358.797,51 | 1.474,23 | 1.492,61 | 5.456.341 | 4,8 | 40.213 | 3,51\n",
        "\"\"\"\n",
        "\n",
        "# Criar um DataFrame a partir dos dados\n",
        "# Primeiro, convertemos o texto em um formato que o pandas pode ler\n",
        "data = io.StringIO(table_data)\n",
        "df = pd.read_csv(data, sep=\"|\", skiprows=1)  # Ignora a linha de \"---\"\n",
        "\n",
        "# Remover espaços em branco extras nas colunas\n",
        "df = df.apply(lambda x: x.str.strip() if x.dtype == \"object\" else x)\n",
        "\n",
        "# Salvar o DataFrame como CSV\n",
        "df.to_csv(\"distribuição_regional_X_atributos.csv\", index=False)\n",
        "\n",
        "print(\"Arquivo CSV gerado com sucesso: distribuição_regional_X_atributos.csv\")"
      ]
    }
  ]
}