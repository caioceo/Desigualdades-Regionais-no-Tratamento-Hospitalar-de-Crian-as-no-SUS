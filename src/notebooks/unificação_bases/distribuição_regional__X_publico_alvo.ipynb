{
  "cells": [
    {
      "cell_type": "code",
      "execution_count": null,
      "metadata": {
        "colab": {
          "base_uri": "https://localhost:8080/"
        },
        "id": "jMnJmt8tHbXu",
        "outputId": "c5df1418-ae96-4f1d-a029-8b49d1168b3d"
      },
      "outputs": [
        {
          "ename": "",
          "evalue": "",
          "output_type": "error",
          "traceback": [
            "\u001b[1;31mRunning cells with 'Python 3.13.2' requires the ipykernel package.\n",
            "\u001b[1;31m<a href='command:jupyter.createPythonEnvAndSelectController'>Create a Python Environment</a> with the required packages.\n",
            "\u001b[1;31mOr install 'ipykernel' using the command: 'c:/Users/caioc/AppData/Local/Programs/Python/Python313/python.exe -m pip install ipykernel -U --user --force-reinstall'"
          ]
        }
      ],
      "source": [
        "import csv\n",
        "\n",
        "# Define the table data\n",
        "table_data = [\n",
        "    [\"Região\", \"Internações\", \"AIH aprovadas\", \"Valor total\", \"Val serv hosp\", \"Val hosp comp fed\", \"Val hosp comp gest\", \"Valor serv prof\", \"Val prof comp fed\", \"Val prof comp gest\", \"Valor médio AIH\", \"Valor médio intern\", \"Dias permanência\", \"Média permanência\", \"Óbitos\", \"Taxa mortalidade\"],\n",
        "    [\"Norte\", \"138.373\", \"138.382\", \"164.580.571,34\", \"124.292.209,34\", \"3.464.215,03\", \"713,03\", \"35.084.932,93\", \"713,03\", \"8.460,93\", \"1.189,40\", \"1.189,48\", \"645.328\", \"4,70\", \"4.013\", \"2,90\"],\n",
        "    [\"Nordeste\", \"432.171\", \"435.389\", \"644.185.045,49\", \"479.827.791,94\", \"21.660.381,85\", \"382.327,24\", \"129.543.384,23\", \"382.327,24\", \"233.141,48\", \"1.480,45\", \"1.491,15\", \"2.298.056\", \"5,10\", \"17.740\", \"3,98\"],\n",
        "    [\"Sudeste\", \"652.844\", \"660.784\", \"1.187.894.273,42\", \"908.026.013,63\", \"38.115.514,19\", \"174.695,84\", \"221.657.866,76\", \"174.695,84\", \"669.425,93\", \"1.798,59\", \"1.821,06\", \"3.509.790\", \"5,20\", \"35.008\", \"5,20\"],\n",
        "    [\"Sul\", \"294.078\", \"297.026\", \"589.083.059,85\", \"437.371.616,21\", \"27.571.951,96\", \"21.091,74\", \"117.356.014,65\", \"21.091,74\", \"11.441,34\", \"1.983,27\", \"2.001,91\", \"1.452.140\", \"4,80\", \"13.374\", \"4,55\"],\n",
        "    [\"Centro-Oeste\", \"135.287\", \"137.684\", \"210.631.875,43\", \"159.075.610,95\", \"2.241.438,98\", \"558.046,39\", \"39.230.824,78\", \"558.046,39\", \"161.987,06\", \"1.474,23\", \"1.492,61\", \"647.634\", \"4,80\", \"4.727\", \"3,51\"],\n",
        "    [\"TOTAL (0 a 9 anos)\", \"1.652.753\", \"1.663.265\", \"2.784.374.825,54\", \"2.233.593.242,07\", \"29.476.501,83\", \"280.869,94\", \"550.781.583,47\", \"280.869,94\", \"345.142,19\", \"1.620,64\", \"1.620,64\", \"8.737.570\", \"5,24\", \"20.147\", \"1,33\"]\n",
        "]\n",
        "\n",
        "# Write to CSV file\n",
        "with open('distribuição_regional _X_publico_alvo.csv', 'w', newline='', encoding='utf-8') as csvfile:\n",
        "    writer = csv.writer(csvfile)\n",
        "    writer.writerows(table_data)\n",
        "\n",
        "print(\"CSV file 'distribuição_regional _X_publico_alvo.csv' has been created successfully.\")\n",
        "\n",
        "# Após a criação do arquivo fiz os calculos e adicionei manualmente a coluna 'Taxa de Internação'"
      ]
    },
    {
      "cell_type": "code",
      "execution_count": null,
      "metadata": {},
      "outputs": [],
      "source": []
    }
  ],
  "metadata": {
    "colab": {
      "provenance": []
    },
    "kernelspec": {
      "display_name": "Python 3",
      "name": "python3"
    },
    "language_info": {
      "name": "python",
      "version": "3.13.2"
    }
  },
  "nbformat": 4,
  "nbformat_minor": 0
}
